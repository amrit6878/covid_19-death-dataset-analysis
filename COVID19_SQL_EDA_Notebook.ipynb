{
 "cells": [
  {
   "cell_type": "markdown",
   "id": "80ec0f93",
   "metadata": {},
   "source": [
    "# 🦠 COVID-19 SQL EDA with Jupyter and MySQL\n",
    "\n",
    "This notebook connects to a MySQL database using `mysql-connector-python` and performs exploratory analysis on COVID-19 data."
   ]
  },
  {
   "cell_type": "code",
   "execution_count": null,
   "id": "e2100548",
   "metadata": {},
   "outputs": [],
   "source": [
    "!pip install mysql-connector-python"
   ]
  },
  {
   "cell_type": "code",
   "execution_count": null,
   "id": "f444792c",
   "metadata": {},
   "outputs": [],
   "source": [
    "\n",
    "import mysql.connector\n",
    "import pandas as pd\n",
    "\n",
    "# Establish database connection (update with your credentials)\n",
    "conn = mysql.connector.connect(\n",
    "    host=\"localhost\",\n",
    "    user=\"your_username\",\n",
    "    password=\"your_password\",\n",
    "    database=\"covid_eda\"\n",
    ")\n",
    "\n",
    "cursor = conn.cursor()\n"
   ]
  },
  {
   "cell_type": "code",
   "execution_count": null,
   "id": "d8dbc8f2",
   "metadata": {},
   "outputs": [],
   "source": [
    "\n",
    "def run_query(query):\n",
    "    cursor.execute(query)\n",
    "    columns = [col[0] for col in cursor.description]\n",
    "    return pd.DataFrame(cursor.fetchall(), columns=columns)\n"
   ]
  },
  {
   "cell_type": "markdown",
   "id": "3139cde6",
   "metadata": {},
   "source": [
    "## 🔹 Total Cases and Deaths by Country"
   ]
  },
  {
   "cell_type": "code",
   "execution_count": null,
   "id": "4ce21aa4",
   "metadata": {},
   "outputs": [],
   "source": [
    "\n",
    "query = '''\n",
    "SELECT location, MAX(total_cases) AS total_cases, MAX(total_deaths) AS total_deaths\n",
    "FROM covid_deaths\n",
    "WHERE continent IS NOT NULL\n",
    "GROUP BY location\n",
    "ORDER BY total_cases DESC;\n",
    "'''\n",
    "run_query(query)\n"
   ]
  },
  {
   "cell_type": "markdown",
   "id": "8e90a567",
   "metadata": {},
   "source": [
    "## 🔹 Global Highest Daily New Cases"
   ]
  },
  {
   "cell_type": "code",
   "execution_count": null,
   "id": "47d4f855",
   "metadata": {},
   "outputs": [],
   "source": [
    "\n",
    "query = '''\n",
    "SELECT location, date, new_cases\n",
    "FROM covid_deaths\n",
    "WHERE new_cases IS NOT NULL\n",
    "ORDER BY new_cases DESC\n",
    "LIMIT 1;\n",
    "'''\n",
    "run_query(query)\n"
   ]
  },
  {
   "cell_type": "markdown",
   "id": "831866f5",
   "metadata": {},
   "source": [
    "## 🔹 Death Rate by Country"
   ]
  },
  {
   "cell_type": "code",
   "execution_count": null,
   "id": "58b2fba2",
   "metadata": {},
   "outputs": [],
   "source": [
    "\n",
    "query = '''\n",
    "SELECT location, MAX(total_deaths) / MAX(total_cases) * 100 AS death_rate_percent\n",
    "FROM covid_deaths\n",
    "WHERE continent IS NOT NULL\n",
    "GROUP BY location\n",
    "ORDER BY death_rate_percent DESC;\n",
    "'''\n",
    "run_query(query)\n"
   ]
  },
  {
   "cell_type": "markdown",
   "id": "579efdb4",
   "metadata": {},
   "source": [
    "## 🔹 7-Day Average of New Cases"
   ]
  },
  {
   "cell_type": "code",
   "execution_count": null,
   "id": "1a4a461a",
   "metadata": {},
   "outputs": [],
   "source": [
    "\n",
    "query = '''\n",
    "SELECT location, date,\n",
    "       AVG(new_cases) OVER (PARTITION BY location ORDER BY date ROWS BETWEEN 6 PRECEDING AND CURRENT ROW) AS avg_new_cases_7_days\n",
    "FROM covid_deaths\n",
    "WHERE continent IS NOT NULL;\n",
    "'''\n",
    "run_query(query)\n"
   ]
  },
  {
   "cell_type": "markdown",
   "id": "96aa2ac7",
   "metadata": {},
   "source": [
    "## 🔹 Top 10 Countries by Cases Per Million"
   ]
  },
  {
   "cell_type": "code",
   "execution_count": null,
   "id": "f0527953",
   "metadata": {},
   "outputs": [],
   "source": [
    "\n",
    "query = '''\n",
    "SELECT location, MAX(total_cases_per_million) AS cases_per_million\n",
    "FROM covid_deaths\n",
    "WHERE continent IS NOT NULL\n",
    "GROUP BY location\n",
    "ORDER BY cases_per_million DESC\n",
    "LIMIT 10;\n",
    "'''\n",
    "run_query(query)\n"
   ]
  },
  {
   "cell_type": "markdown",
   "id": "69c23e05",
   "metadata": {},
   "source": [
    "## 🔹 Highest ICU Patients in a Single Day"
   ]
  },
  {
   "cell_type": "code",
   "execution_count": null,
   "id": "c7a3c679",
   "metadata": {},
   "outputs": [],
   "source": [
    "\n",
    "query = '''\n",
    "SELECT date, location, icu_patients\n",
    "FROM covid_deaths\n",
    "WHERE icu_patients IS NOT NULL\n",
    "ORDER BY icu_patients DESC\n",
    "LIMIT 1;\n",
    "'''\n",
    "run_query(query)\n"
   ]
  },
  {
   "cell_type": "code",
   "execution_count": null,
   "id": "b419496b",
   "metadata": {},
   "outputs": [],
   "source": [
    "cursor.close()\n",
    "conn.close()"
   ]
  }
 ],
 "metadata": {},
 "nbformat": 4,
 "nbformat_minor": 5
}
